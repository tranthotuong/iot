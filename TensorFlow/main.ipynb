{
 "cells": [
  {
   "cell_type": "code",
   "execution_count": 1,
   "metadata": {},
   "outputs": [
    {
     "name": "stdout",
     "output_type": "stream",
     "text": [
      "['1', 'T', '27.3']\n",
      "['1', 'T', '53.5']\n",
      "['1', 'L', '88.0']\n",
      "['1', 'T', '27.2']\n",
      "['1', 'T', '53.9']\n",
      "['1', 'L', '88.0']\n"
     ]
    },
    {
     "ename": "KeyboardInterrupt",
     "evalue": "",
     "output_type": "error",
     "traceback": [
      "\u001b[1;31m---------------------------------------------------------------------------\u001b[0m",
      "\u001b[1;31mKeyboardInterrupt\u001b[0m                         Traceback (most recent call last)",
      "Cell \u001b[1;32mIn[1], line 75\u001b[0m\n\u001b[0;32m     73\u001b[0m \u001b[38;5;66;03m# read data form hardware and transfer it to server\u001b[39;00m\n\u001b[0;32m     74\u001b[0m readSerial(client)\n\u001b[1;32m---> 75\u001b[0m \u001b[43mtime\u001b[49m\u001b[38;5;241;43m.\u001b[39;49m\u001b[43msleep\u001b[49m\u001b[43m(\u001b[49m\u001b[38;5;241;43m1\u001b[39;49m\u001b[43m)\u001b[49m\n\u001b[0;32m     76\u001b[0m \u001b[38;5;28;01mpass\u001b[39;00m\n",
      "\u001b[1;31mKeyboardInterrupt\u001b[0m: "
     ]
    }
   ],
   "source": [
    "# Import lib for basic function\n",
    "import sys\n",
    "import time\n",
    "import random\n",
    "import datetime\n",
    "# Import lib contains function camera detector return result:\n",
    "# 1. Non-person\n",
    "# 2. Person wear mask\n",
    "# 3. Person non-wear mask\n",
    "from simple_ai import *\n",
    "# Import lib contains function to connect to COM port\n",
    "from uart import *\n",
    "# import lib MQTTClient to connect to Adafruit_IO webpage\n",
    "from Adafruit_IO import MQTTClient\n",
    "# Credentials to connect Adafruit_IO webpage\n",
    "AIO_FEED_ID = [\"button1\", \"button2\", \"button4\"]\n",
    "AIO_USERNAME = \"khanhnh88\"\n",
    "AIO_KEY = \"aio_PpmO254iuQYSF7G0TEkDeojHoKes\"\n",
    "# Function to connect, disconnect, message, subscribe\n",
    "# for MQTTClient connect to Adafruit_IO webpage\n",
    "def connected(client):\n",
    "    print(\"Ket noi thanh cong ...\")\n",
    "    for topic in AIO_FEED_ID:\n",
    "        client.subscribe(topic)\n",
    "def subscribe(client , userdata , mid , granted_qos):\n",
    "    print(\"Subscribe thanh cong ...\")\n",
    "def disconnected(client):\n",
    "    print(\"Ngat ket noi ...\")\n",
    "    sys.exit (1)\n",
    "def message(client , feed_id , payload):\n",
    "    print(\"Nhan du lieu: \" + payload)\n",
    "    # Send data to UART\n",
    "    if feed_id == \"button1\":\n",
    "        if payload == \"0\":\n",
    "            writeData(\"0\")\n",
    "        else:\n",
    "            writeData(\"1\")\n",
    "    elif feed_id == \"button2\":\n",
    "        if payload == \"0\":\n",
    "            writeData(\"2\")\n",
    "        else:\n",
    "            writeData(\"3\")\n",
    "    elif feed_id == \"button4\":\n",
    "        if payload == \"0\":\n",
    "            writeData(\"4\")\n",
    "        else:\n",
    "            writeData(\"5\")\n",
    "# Assign functions to MQTTClient\n",
    "client = MQTTClient(AIO_USERNAME , AIO_KEY)\n",
    "client.on_connect = connected\n",
    "client.on_disconnect = disconnected\n",
    "client.on_message = message\n",
    "client.on_subscribe = subscribe\n",
    "client.connect()\n",
    "client.loop_background()\n",
    "# timer for get variables to ai\n",
    "counter_ai = 5\n",
    "# if don't change result of camera dectector, don't change state of ai\n",
    "ai_result = \"\"\n",
    "previous_result = \"\"\n",
    "while True:\n",
    "    # Block code to get result after detect person exist on camera and if exists that person wear mask or not\n",
    "    # counter_ai -= 1\n",
    "    if counter_ai <= 0:\n",
    "        #TODO\n",
    "        counter_ai = 5  # Reset timer\n",
    "        previous_result = ai_result\n",
    "        ai_result = image_detector()\n",
    "        print(\"AI Output: \",ai_result)\n",
    "        if previous_result != ai_result:\n",
    "            client.publish(\"ai\",ai_result)\n",
    "\n",
    "    # read data form hardware and transfer it to server\n",
    "    readSerial(client)\n",
    "    time.sleep(1)\n",
    "    pass"
   ]
  }
 ],
 "metadata": {
  "kernelspec": {
   "display_name": "Python 3",
   "language": "python",
   "name": "python3"
  },
  "language_info": {
   "codemirror_mode": {
    "name": "ipython",
    "version": 3
   },
   "file_extension": ".py",
   "mimetype": "text/x-python",
   "name": "python",
   "nbconvert_exporter": "python",
   "pygments_lexer": "ipython3",
   "version": "3.8.5"
  }
 },
 "nbformat": 4,
 "nbformat_minor": 2
}
